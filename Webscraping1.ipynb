{
 "cells": [
  {
   "cell_type": "code",
   "execution_count": 1,
   "id": "2460f55f",
   "metadata": {},
   "outputs": [],
   "source": [
    "import pandas as pd\n",
    "from bs4 import BeautifulSoup\n",
    "import requests\n",
    "import matplotlib.pyplot as plt\n",
    "from selenium import webdriver"
   ]
  },
  {
   "cell_type": "markdown",
   "id": "2202fa56",
   "metadata": {},
   "source": [
    "# Book.toscrape"
   ]
  },
  {
   "cell_type": "code",
   "execution_count": 16,
   "id": "01d86a4f",
   "metadata": {},
   "outputs": [],
   "source": [
    "name=[]\n",
    "#kitab saytindan melumat cekilmesi\n",
    "r=requests.get(\"https://books.toscrape.com/\")\n",
    "soup=BeautifulSoup(r.content,\"html.parser\")\n",
    "a=soup.find_all(\"li\",class_=\"col-xs-6 col-sm-4 col-md-3 col-lg-3\")\n",
    "kitablar=[i.get_text().strip(\"\\n\").split(\"\\n\") for i in a]\n",
    "stok=[]\n",
    "qiymet=[]\n",
    "for c in kitablar:\n",
    "    qiymet.append(c[2])#qiymet\n",
    "    stok.append(c[6])#stokdadi ya yox\n",
    "\n",
    "a=soup.find_all(\"li\",class_=\"col-xs-6 col-sm-4 col-md-3 col-lg-3\")\n",
    "for i in a:\n",
    "    linkler=i.find_all(\"div\",class_=\"image_container\")\n",
    "    for link in linkler:\n",
    "        k=link.find_all(\"a\")\n",
    "        \n",
    "        for link_s in k:\n",
    "            linksonu=link_s.get(\"href\")\n",
    "            linkbasi=\"https://books.toscrape.com/\"\n",
    "            link_tamami=linkbasi+linksonu\n",
    "#             print(link_tamami)\n",
    "            \n",
    "           \n",
    "            detay_r=requests.get(link_tamami)\n",
    "            detay_soup=BeautifulSoup(detay_r.content,\"html.parser\")\n",
    "            \n",
    "            detay_=detay_soup.find_all(\"div\",class_=\"col-sm-6 product_main\")\n",
    "            for book_name in detay_:\n",
    "                ad=book_name.find(\"h1\").get_text()\n",
    "                name.append(ad)\n",
    "                \n",
    "            \n",
    "        \n",
    "dictionary={\"ad\":name,\"qiymet\":qiymet,\"stok\":stok}\n",
    "data=pd.DataFrame(dictionary)   \n",
    "    "
   ]
  },
  {
   "cell_type": "markdown",
   "id": "44569061",
   "metadata": {},
   "source": [
    "# IMDB"
   ]
  },
  {
   "cell_type": "code",
   "execution_count": 6,
   "id": "c653bc18",
   "metadata": {},
   "outputs": [],
   "source": [
    "r=requests.get(\"https://www.imdb.com/chart/top/?ref_=nv_mv_250\")\n",
    "soup=BeautifulSoup(r.content,\"html.parser\")\n",
    "filimler=soup.find_all(\"td\",class_=\"titleColumn\")\n",
    "filim_adi=[]\n",
    "filim_reytingi=[]\n",
    "filim_ili=[]\n",
    "for i in filimler:\n",
    "    filim_adi.append(i.find(\"a\").get_text())\n",
    "    filim_ili.append(i.find(\"span\",class_=\"secondaryInfo\").get_text())\n",
    "\n",
    "\n",
    "soup_rayting=soup.find_all(\"tr\")\n",
    "for i in soup_rayting:\n",
    "    reytingler=i.find_all(class_=\"ratingColumn imdbRating\")\n",
    "    for j in reytingler:\n",
    "        filim_reytingi.append(j.find(\"strong\").get_text())\n",
    "\n",
    "    \n",
    "film_cedveli={\"Filim_adi\":filim_adi,\"Filim_il\":filim_ili,\"Filim_reytingi\":filim_reytingi}\n",
    "cedvel=pd.DataFrame(film_cedveli)\n",
    "cedvel.to_csv(\"filmler.csv\")"
   ]
  },
  {
   "cell_type": "markdown",
   "id": "9e48ab0e",
   "metadata": {},
   "source": [
    "# Turbo.az"
   ]
  },
  {
   "cell_type": "code",
   "execution_count": null,
   "id": "8e4215d7",
   "metadata": {},
   "outputs": [
    {
     "name": "stdout",
     "output_type": "stream",
     "text": [
      "1\n"
     ]
    }
   ],
   "source": [
    "sehife=1\n",
    "liste=[]\n",
    "qiymet=[]\n",
    "while sehife<2:  #seife sayini teyin etmek ucun istifade edilir\n",
    "    print(sehife)\n",
    "    r=requests.get(\"https://turbo.az/autos?page={}\".format(sehife))\n",
    "    soup=BeautifulSoup(r.content,\"html.parser\")\n",
    "    linkler=soup.find_all(\"a\",class_=\"products-i__link\")\n",
    "    header={\"User-Agent\":\"Mozilla/5.0 (Windows NT 10.0; Win64; x64) AppleWebKit/537.36 (KHTML, like Gecko) Chrome/109.0.0.0 Safari/537.36\"}\n",
    "    for i in linkler:\n",
    "        link_sonu=i.get(\"href\")\n",
    "        link_tamami=\"https://turbo.az/\"+link_sonu\n",
    "        response=requests.get(link_tamami,headers=header)\n",
    "        soup=BeautifulSoup(response.content,\"html.parser\")\n",
    "        qiymetler=soup.find_all(\"div\",class_=\"product-price__i product-price__i--bold\")\n",
    "        for j in qiymetler:\n",
    "            qiymet.append(j.get_text().strip(\"AZN USD\"))\n",
    "\n",
    "        detay=soup.find_all(\"div\",class_=\"product-properties tz-d-flex tz-justify-between tz-gap-10\")\n",
    "        for k in detay:\n",
    "            label=k.find_all(\"label\",class_=\"product-properties__i-name\")\n",
    "            span=k.find_all(\"span\",class_=\"product-properties__i-value\")\n",
    "            son={}\n",
    "            for i in range(len(label)):\n",
    "                son[label[i].text]=span[i].text\n",
    "            liste.append(son)\n",
    "    sehife+=1\n",
    "\n",
    "#Sonda aldigimiz data Frame cevrilir ordanda csv fayl import edilir \n",
    "Frame=pd.DataFrame(liste)\n",
    "Frame.insert(loc=len(Frame.columns),column=\"Qiymet\",value=qiymet)\n",
    "Frame[\"Qiymet\"]=Frame[\"Qiymet\"].str.strip(\"AZN USD\")\n",
    "Frame\n",
    "        \n",
    "\n",
    "    \n",
    "    \n",
    "\n",
    "    #     for k in elametler:\n",
    "#         print(k.find(\"label\",class_=\"product-properties__i-name\").text,\"--\",k.find(\"span\",class_=\"product-properties__i-value\").text)\n",
    "#     print(\"---------------------------\")\n",
    "        \n",
    "    "
   ]
  },
  {
   "cell_type": "markdown",
   "id": "c1d8a6b4",
   "metadata": {},
   "source": [
    "# Kitabyurdu"
   ]
  },
  {
   "cell_type": "code",
   "execution_count": null,
   "id": "a85b87e0",
   "metadata": {},
   "outputs": [],
   "source": [
    "from bs4 import BeautifulSoup\n",
    "import pandas as pd\n",
    "import numpy as np\n",
    "import requests\n",
    "\n",
    "kitablar=[]\n",
    "qiymet=[]\n",
    "yazici=[]\n",
    "kitab_adi=[]\n",
    "qiymetler=[]\n",
    "re=requests.get(\"https://www.kitapyurdu.com/index.php?route=product/publisher_products/all&&publisher_id=7818&filter_in_stock=1&sort=purchased_365&order=DESC&limit=100\")\n",
    "soup=BeautifulSoup(re.content,\"lxml\")\n",
    "kitab_linkleri=soup.find_all(\"a\",class_=\"pr-img-link\")\n",
    "for i in kitab_linkleri:\n",
    "    link=i.get(\"href\")\n",
    "    re=requests.get(link) \n",
    "    soup=BeautifulSoup(re.content,\"lxml\") \n",
    "    qiymet=soup.find(\"div\",class_=\"price__item\")\n",
    "    yazicilar=soup.find(\"div\",class_=\"pr_producers__manufacturer\")\n",
    "    kitab_adlari=soup.find(\"h1\",class_=\"pr_header__heading\")\n",
    "    try:\n",
    "        yazici.append(yazicilar.get_text().strip(\"\\n\"))\n",
    "        kitab_adi.append(kitab_adlari.get_text().strip(\"\\n\"))\n",
    "        qiymetler.append(qiymet.get_text())\n",
    "    except:\n",
    "        yazici.append(\"Namelum\")\n",
    "        kitab_adi.append(\"Namelum\")\n",
    "        qiymetler.append(\"Namelum\")\n",
    "    \n",
    "    #Xususiyetler\n",
    "    \n",
    "    detaylar=soup.find_all(\"td\")\n",
    "    cedvel={}\n",
    "    for i in range(0,len(detaylar),2):\n",
    "        cedvel[detaylar[i].get_text()]=detaylar[i+1].text\n",
    "    kitablar.append(cedvel)\n",
    "        \n",
    "a=pd.DataFrame(kitablar)\n",
    "a.insert(loc=0,column=\"Kitap_ismi\",value=kitab_adi)\n",
    "a.insert(loc=1,column=\"Yazar\",value=yazici)\n",
    "a.insert(loc=9,column=\"Fiyat\",value=qiymetler)\n",
    "a.columns=a.columns.str.replace(\":\",\"\")"
   ]
  },
  {
   "cell_type": "code",
   "execution_count": null,
   "id": "9c106e5a",
   "metadata": {},
   "outputs": [],
   "source": []
  }
 ],
 "metadata": {
  "kernelspec": {
   "display_name": "Python 3 (ipykernel)",
   "language": "python",
   "name": "python3"
  },
  "language_info": {
   "codemirror_mode": {
    "name": "ipython",
    "version": 3
   },
   "file_extension": ".py",
   "mimetype": "text/x-python",
   "name": "python",
   "nbconvert_exporter": "python",
   "pygments_lexer": "ipython3",
   "version": "3.9.13"
  }
 },
 "nbformat": 4,
 "nbformat_minor": 5
}
